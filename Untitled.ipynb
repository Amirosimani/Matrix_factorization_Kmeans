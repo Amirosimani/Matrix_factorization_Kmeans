{
 "cells": [
  {
   "cell_type": "code",
   "execution_count": 1,
   "metadata": {
    "collapsed": true
   },
   "outputs": [],
   "source": [
    "import numpy as np\n",
    "from numpy import linalg as LA\n",
    "import matplotlib\n",
    "import matplotlib.pyplot as plt\n",
    "\n",
    "%matplotlib inline\n",
    "%load_ext autotime"
   ]
  },
  {
   "cell_type": "code",
   "execution_count": 2,
   "metadata": {
    "collapsed": false
   },
   "outputs": [
    {
     "name": "stdout",
     "output_type": "stream",
     "text": [
      "time: 1.08 s\n"
     ]
    }
   ],
   "source": [
    "#load train data as numpy array\n",
    "X = np.genfromtxt('/Users/Amiros/GitHub/Machine Learning for Data Science/hw4-kmeans/data/ratings.csv', \n",
    "          delimiter=',')\n",
    "y = np.genfromtxt('/Users/Amiros/GitHub/Machine Learning for Data Science/hw4-kmeans/data/ratings_test.csv', \n",
    "          delimiter=',')"
   ]
  },
  {
   "cell_type": "code",
   "execution_count": 3,
   "metadata": {
    "collapsed": false
   },
   "outputs": [
    {
     "data": {
      "text/plain": [
       "(943, 1676)"
      ]
     },
     "execution_count": 3,
     "metadata": {},
     "output_type": "execute_result"
    },
    {
     "name": "stdout",
     "output_type": "stream",
     "text": [
      "time: 677 ms\n"
     ]
    }
   ],
   "source": [
    "import pandas as pd\n",
    "df = pd.DataFrame(X)\n",
    "df = df.pivot(index= 0, columns=1, values=2)\n",
    "df.shape\n",
    "\n",
    "### make an index list for movies from the raw data"
   ]
  },
  {
   "cell_type": "code",
   "execution_count": 4,
   "metadata": {
    "collapsed": false
   },
   "outputs": [
    {
     "name": "stdout",
     "output_type": "stream",
     "text": [
      "time: 26.7 ms\n"
     ]
    }
   ],
   "source": [
    "# np.argwhere(np.isnan(df.values))\n",
    "M = df.values\n",
    "omega = np.argwhere(np.isfinite(M))\n",
    "# omega"
   ]
  },
  {
   "cell_type": "code",
   "execution_count": 5,
   "metadata": {
    "collapsed": false
   },
   "outputs": [
    {
     "name": "stdout",
     "output_type": "stream",
     "text": [
      "time: 10.3 ms\n"
     ]
    }
   ],
   "source": [
    "# problem intialization\n",
    "d = 10\n",
    "lmbda = 1\n",
    "variance = 0.25\n",
    "steps = 100\n",
    "\n",
    "# number of users\n",
    "N_1 = df.shape[0]\n",
    "u = np.random.randn(N_1, d)\n",
    "\n",
    "# number of movies\n",
    "N_2 = df.shape[1]\n",
    "v = np.random.randn(d, N_2)"
   ]
  },
  {
   "cell_type": "code",
   "execution_count": 56,
   "metadata": {
    "collapsed": false
   },
   "outputs": [
    {
     "name": "stdout",
     "output_type": "stream",
     "text": [
      "time: 1.59 s\n"
     ]
    }
   ],
   "source": [
    "u_updated = np.empty((0,10))\n",
    "for k in range(N_1):\n",
    "    j = omega[omega[:,0] == k][:,1]\n",
    "    v_j =v[:,j]\n",
    "    \n",
    "    a = LA.inv((lmbda * variance * np.eye(d)) + v_j.dot(v_j.T))\n",
    "    M_kj = M[k,:][~np.isnan(M[k,:])].reshape(-1,1)\n",
    "    aaa = v_j.dot(M_kj)\n",
    "    u_new = a.dot(aaa)\n",
    "    u_updated = np.append(u_updated, u_new.T, axis=0)\n",
    "    \n",
    "    ####### vectorize this - need to select all rows of M at once....\n",
    "\n",
    "v_updated = np.empty((10,0))\n",
    "for z in range(N_2):\n",
    "    i = omega[omega[:,1] == z][:,0]\n",
    "    u_i = u[i,:]\n",
    "    \n",
    "    b = LA.inv((lmbda * variance * np.eye(d)) + u_i.T.dot(u_i))\n",
    "    M_iz = M[:,z][~np.isnan(M[:,z])]\n",
    "    bbb = u_i.T.dot(M_iz)\n",
    "    v_new = b.dot(bbb)\n",
    "    v_updated = np.append(v_updated, v_new.reshape(-1,1), axis=1)"
   ]
  },
  {
   "cell_type": "code",
   "execution_count": 58,
   "metadata": {
    "collapsed": false
   },
   "outputs": [
    {
     "data": {
      "text/plain": [
       "(943, 10)"
      ]
     },
     "execution_count": 58,
     "metadata": {},
     "output_type": "execute_result"
    },
    {
     "name": "stdout",
     "output_type": "stream",
     "text": [
      "time: 3.88 ms\n"
     ]
    }
   ],
   "source": [
    "u_updated.shape"
   ]
  },
  {
   "cell_type": "code",
   "execution_count": 61,
   "metadata": {
    "collapsed": false
   },
   "outputs": [
    {
     "name": "stdout",
     "output_type": "stream",
     "text": [
      "time: 28 s\n"
     ]
    }
   ],
   "source": [
    "for iteration in range(1,10):\n",
    "    \n",
    "    u_updated = np.empty((0,10))\n",
    "    for k in range(N_1):\n",
    "        j = omega[omega[:,0] == k][:,1]\n",
    "        v_j =v[:,j]\n",
    "\n",
    "        a = LA.inv((lmbda * variance * np.eye(d)) + v_j.dot(v_j.T))\n",
    "        M_kj = M[k,:][~np.isnan(M[k,:])].reshape(-1,1)\n",
    "        aaa = v_j.dot(M_kj)\n",
    "        u_new = a.dot(aaa)\n",
    "        u_updated = np.append(u_updated, u_new.T, axis=0)\n",
    "\n",
    "    v_updated = np.empty((10,0))\n",
    "    for z in range(N_2):\n",
    "        i = omega[omega[:,1] == z][:,0]\n",
    "        u_i = u[i,:]\n",
    "\n",
    "        b = LA.inv((lmbda * variance * np.eye(d)) + u_i.T.dot(u_i))\n",
    "        M_iz = M[:,z][~np.isnan(M[:,z])]\n",
    "        bbb = u_i.T.dot(M_iz)\n",
    "        v_new = b.dot(bbb)\n",
    "        v_updated = np.append(v_updated, v_new.reshape(-1,1), axis=1)\n",
    "\n",
    "        \n",
    "        \n",
    "    for k in range(N_1):\n",
    "        j = omega[omega[:,0] == k][:,1]\n",
    "        v_j =v_updated[:,j]\n",
    "\n",
    "        a = LA.inv((lmbda * variance * np.eye(d)) + v_j.dot(v_j.T))\n",
    "        M_kj = M[k,:][~np.isnan(M[k,:])].reshape(-1,1)\n",
    "        aaa = v_j.dot(M_kj)\n",
    "        u_new = a.dot(aaa)\n",
    "        u_updated = np.append(u_updated, u_new.T, axis=0)\n",
    "\n",
    "        ####### vectorize this - need to select all rows of M at once....\n",
    "\n",
    "    for z in range(N_2):\n",
    "        i = omega[omega[:,1] == z][:,0]\n",
    "        u_i = u_updated[i,:]\n",
    "\n",
    "        b = LA.inv((lmbda * variance * np.eye(d)) + u_i.T.dot(u_i))\n",
    "        M_iz = M[:,z][~np.isnan(M[:,z])]\n",
    "        bbb = u_i.T.dot(M_iz)\n",
    "        v_new = b.dot(bbb)\n",
    "        v_updated = np.append(v_updated, v_new.reshape(-1,1), axis=1)"
   ]
  },
  {
   "cell_type": "code",
   "execution_count": 62,
   "metadata": {
    "collapsed": false
   },
   "outputs": [
    {
     "data": {
      "text/plain": [
       "(1886, 10)"
      ]
     },
     "execution_count": 62,
     "metadata": {},
     "output_type": "execute_result"
    },
    {
     "name": "stdout",
     "output_type": "stream",
     "text": [
      "time: 4.18 ms\n"
     ]
    }
   ],
   "source": [
    "u_updated.shape"
   ]
  },
  {
   "cell_type": "code",
   "execution_count": 53,
   "metadata": {
    "collapsed": false
   },
   "outputs": [
    {
     "name": "stdout",
     "output_type": "stream",
     "text": [
      "time: 485 ms\n"
     ]
    }
   ],
   "source": []
  },
  {
   "cell_type": "code",
   "execution_count": 55,
   "metadata": {
    "collapsed": false
   },
   "outputs": [
    {
     "data": {
      "text/plain": [
       "array([[-0.53625335],\n",
       "       [-1.46741329],\n",
       "       [-1.30275589],\n",
       "       [ 1.2003583 ],\n",
       "       [-1.7803257 ],\n",
       "       [-1.20245596],\n",
       "       [ 2.19718327],\n",
       "       [-0.35183306],\n",
       "       [-0.99340304],\n",
       "       [ 1.60879933]])"
      ]
     },
     "execution_count": 55,
     "metadata": {},
     "output_type": "execute_result"
    },
    {
     "name": "stdout",
     "output_type": "stream",
     "text": [
      "time: 4.81 ms\n"
     ]
    }
   ],
   "source": []
  },
  {
   "cell_type": "code",
   "execution_count": null,
   "metadata": {
    "collapsed": true
   },
   "outputs": [],
   "source": []
  }
 ],
 "metadata": {
  "kernelspec": {
   "display_name": "Python 3",
   "language": "python",
   "name": "python3"
  },
  "language_info": {
   "codemirror_mode": {
    "name": "ipython",
    "version": 3
   },
   "file_extension": ".py",
   "mimetype": "text/x-python",
   "name": "python",
   "nbconvert_exporter": "python",
   "pygments_lexer": "ipython3",
   "version": "3.6.0"
  }
 },
 "nbformat": 4,
 "nbformat_minor": 2
}
