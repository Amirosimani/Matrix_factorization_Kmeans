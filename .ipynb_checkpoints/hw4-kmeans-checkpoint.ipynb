{
 "cells": [
  {
   "cell_type": "code",
   "execution_count": 1,
   "metadata": {
    "collapsed": false
   },
   "outputs": [],
   "source": [
    "import numpy as np\n",
    "import matplotlib\n",
    "import matplotlib.pyplot as plt\n",
    "\n",
    "%matplotlib inline"
   ]
  },
  {
   "cell_type": "markdown",
   "metadata": {},
   "source": [
    "## Data Generation"
   ]
  },
  {
   "cell_type": "code",
   "execution_count": 2,
   "metadata": {
    "collapsed": false
   },
   "outputs": [],
   "source": [
    "np.random.seed(42)\n",
    "\n",
    "N = 500\n",
    "weights = [0.2, 0.5, 0.3]\n",
    "mean = np.array([[0,0], [3,0], [0,3]])\n",
    "cov = np.array([[1,0],[0,1]])\n",
    "\n",
    "data =  np.empty((0,2), int)\n",
    "index = np.random.choice([0,1,2], N, p= weights)\n",
    "\n",
    "for i in index:\n",
    "    sample = np.random.multivariate_normal(mean[index[i]], cov, 1)\n",
    "    data = np.append(data, sample, axis=0)"
   ]
  },
  {
   "cell_type": "code",
   "execution_count": 3,
   "metadata": {
    "collapsed": false
   },
   "outputs": [
    {
     "data": {
      "text/plain": [
       "<matplotlib.collections.PathCollection at 0x107d52860>"
      ]
     },
     "execution_count": 3,
     "metadata": {},
     "output_type": "execute_result"
    },
    {
     "data": {
      "image/png": "[encoded data removed]",
      "text/plain": [
       "<matplotlib.figure.Figure at 0x107d52630>"
      ]
     },
     "metadata": {},
     "output_type": "display_data"
    }
   ],
   "source": [
    "plt.scatter(data[:,0],data[:,1])\n",
    "\n",
    "# plt.scatter(data[:, 0], data[:, 1])\n",
    "# plt.scatter(centroids[:, 0], new_centroids[:, 1], c='r', s=100)"
   ]
  },
  {
   "cell_type": "markdown",
   "metadata": {
    "collapsed": false
   },
   "source": [
    "## K-means"
   ]
  },
  {
   "cell_type": "code",
   "execution_count": null,
   "metadata": {
    "collapsed": false
   },
   "outputs": [],
   "source": [
    "#http://flothesof.github.io/k-means-numpy.html"
   ]
  },
  {
   "cell_type": "code",
   "execution_count": 4,
   "metadata": {
    "collapsed": true
   },
   "outputs": [],
   "source": [
    "def initialize_centroids(data, k):\n",
    "    \"\"\"returns k centroids from the initial points\"\"\"\n",
    "    centroids = data.copy()\n",
    "    np.random.shuffle(centroids)\n",
    "    return centroids[:k]"
   ]
  },
  {
   "cell_type": "code",
   "execution_count": 14,
   "metadata": {
    "collapsed": true
   },
   "outputs": [],
   "source": [
    "def kmeans(data, k, centroids):\n",
    "    \n",
    "    distance = np.zeros([data.shape[0],])\n",
    "    n = np.zeros([1,])\n",
    "\n",
    "    for i in range(k):\n",
    "        d = np.linalg.norm((data - centroids[i,:]), axis=1)\n",
    "        distance = np.vstack((distance, d))\n",
    "    distance = np.delete(distance, (0), axis=0)\n",
    "\n",
    "    for i in np.arange(500):\n",
    "        a = np.where(distance[:,i] == distance[:,i].min())[0]\n",
    "        n = np.vstack((n,a))\n",
    "    n = np.delete(n, (0), axis=0)\n",
    "    n = n.reshape(500,)\n",
    "    \n",
    "    centroids = np.array([data[n==k].mean(axis=0) for k in range(centroids.shape[0])])\n",
    "    \n",
    "    return centroids   "
   ]
  },
  {
   "cell_type": "code",
   "execution_count": 29,
   "metadata": {
    "collapsed": false
   },
   "outputs": [
    {
     "data": {
      "text/plain": [
       "array([[ 0.81770445,  2.68057674],\n",
       "       [ 2.62749346, -1.49155483],\n",
       "       [-0.58118126,  3.44551457],\n",
       "       [ 2.69096751, -0.62625766],\n",
       "       [ 3.05788335,  0.6589239 ]])"
      ]
     },
     "execution_count": 29,
     "metadata": {},
     "output_type": "execute_result"
    }
   ],
   "source": [
    "centroids = initialize_centroids(data, 5)\n",
    "\n",
    "kmeans(data,5, centroids)"
   ]
  },
  {
   "cell_type": "code",
   "execution_count": null,
   "metadata": {
    "collapsed": false
   },
   "outputs": [],
   "source": []
  },
  {
   "cell_type": "code",
   "execution_count": null,
   "metadata": {
    "collapsed": true
   },
   "outputs": [],
   "source": []
  }
 ],
 "metadata": {
  "kernelspec": {
   "display_name": "Python 3",
   "language": "python",
   "name": "python3"
  },
  "language_info": {
   "codemirror_mode": {
    "name": "ipython",
    "version": 3
   },
   "file_extension": ".py",
   "mimetype": "text/x-python",
   "name": "python",
   "nbconvert_exporter": "python",
   "pygments_lexer": "ipython3",
   "version": "3.5.2"
  }
 },
 "nbformat": 4,
 "nbformat_minor": 0
}
