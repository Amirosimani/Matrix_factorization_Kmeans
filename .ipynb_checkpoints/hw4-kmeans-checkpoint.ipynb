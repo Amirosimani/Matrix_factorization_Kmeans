{
 "cells": [
  {
   "cell_type": "code",
   "execution_count": 1,
   "metadata": {
    "collapsed": false
   },
   "outputs": [],
   "source": [
    "import numpy as np\n",
    "from numpy import linalg as LA\n",
    "import matplotlib\n",
    "import matplotlib.pyplot as plt\n",
    "\n",
    "%matplotlib inline\n",
    "%load_ext autotime"
   ]
  },
  {
   "cell_type": "markdown",
   "metadata": {},
   "source": [
    "# Problem 1 (K-means)"
   ]
  },
  {
   "cell_type": "code",
   "execution_count": null,
   "metadata": {
    "collapsed": false
   },
   "outputs": [],
   "source": [
    "np.random.seed(42)\n",
    "\n",
    "N = 500\n",
    "weights = [0.2, 0.5, 0.3]\n",
    "mean = np.array([[0,0], [3,0], [0,3]])\n",
    "cov = np.array([[1,0],[0,1]])\n",
    "\n",
    "data =  np.empty((0,2), int)\n",
    "index = np.random.choice([0,1,2], N, p= weights)\n",
    "\n",
    "for i in index:\n",
    "    sample = np.random.multivariate_normal(mean[index[i]], cov, 1)\n",
    "    data = np.append(data, sample, axis=0)"
   ]
  },
  {
   "cell_type": "code",
   "execution_count": null,
   "metadata": {
    "collapsed": false
   },
   "outputs": [],
   "source": [
    "plt.scatter(data[:,0],data[:,1])"
   ]
  },
  {
   "cell_type": "markdown",
   "metadata": {
    "collapsed": false
   },
   "source": [
    "### K-means funcitons"
   ]
  },
  {
   "cell_type": "code",
   "execution_count": null,
   "metadata": {
    "collapsed": false
   },
   "outputs": [],
   "source": [
    "def initialize_centroids(data, k):\n",
    "    \"\"\"returns k centroids from the initial points\"\"\"\n",
    "    centroids = data.copy()\n",
    "    np.random.shuffle(centroids)\n",
    "    return centroids[:k]"
   ]
  },
  {
   "cell_type": "code",
   "execution_count": null,
   "metadata": {
    "collapsed": false
   },
   "outputs": [],
   "source": [
    "def kmeans(data, k, centroids, iteration):\n",
    "\n",
    "    L = []\n",
    "    centroids_array = np.zeros([0,2])\n",
    "    for i in range(iteration+1):\n",
    "        distance = np.zeros([data.shape[0],])\n",
    "        n = np.zeros([1,])\n",
    "\n",
    "        for i in range(k):\n",
    "            d = LA.norm((data - centroids[i,:]), axis=1)\n",
    "            distance = np.vstack((distance, d))\n",
    "        distance = np.delete(distance, (0), axis=0)\n",
    "\n",
    "        for i in np.arange(500):\n",
    "            a = np.where(distance[:,i] == distance[:,i].min())[0]\n",
    "            n = np.vstack((n,a))\n",
    "        n = np.delete(n, (0), axis=0)\n",
    "        n = n.reshape(500,)\n",
    "\n",
    "        centroids = np.array([data[n==k].mean(axis=0) for k in range(centroids.shape[0])])\n",
    "#         centroids_array = np.vstack((centroids_array, centroids))\n",
    "\n",
    "        L.append(np.sum([np.sum(LA.norm((data[n==k] - centroids[k]), axis=1), axis=0) for k in range(centroids.shape[0])]))\n",
    "        \n",
    "    return n, centroids, L"
   ]
  },
  {
   "cell_type": "code",
   "execution_count": null,
   "metadata": {
    "collapsed": false
   },
   "outputs": [],
   "source": [
    "centroids = initialize_centroids(data, 5)\n",
    "\n",
    "clusters_5, centroids_poisition_5, L_5 = kmeans(data,5, centroids, 20)\n",
    "clusters_4, centroids_poisition_4, L_4 = kmeans(data,4, centroids, 20)\n",
    "clusters_3, centroids_poisition_3, L_3 = kmeans(data,3, centroids, 20)\n",
    "clusters_2, centroids_poisition_2, L_2 = kmeans(data,2, centroids, 20)"
   ]
  },
  {
   "cell_type": "markdown",
   "metadata": {},
   "source": [
    "## 1-a"
   ]
  },
  {
   "cell_type": "code",
   "execution_count": null,
   "metadata": {
    "collapsed": false
   },
   "outputs": [],
   "source": [
    "plt.figure(num=None, figsize=(10, 10), dpi=80)\n",
    "\n",
    "plt.plot(L_5, label=\"5 clusters\", linewidth=2)\n",
    "plt.plot(L_4, label=\"4 clusters\", linewidth=2)\n",
    "plt.plot(L_3, label=\"3 clusters\", linewidth=2)\n",
    "plt.plot(L_2, label=\"2 clusters\", linewidth=2)\n",
    "\n",
    "plt.xlabel(\"iteration\")\n",
    "plt.ylabel(\"L\")\n",
    "plt.legend(loc=1)"
   ]
  },
  {
   "cell_type": "markdown",
   "metadata": {},
   "source": [
    "## 1-b"
   ]
  },
  {
   "cell_type": "code",
   "execution_count": null,
   "metadata": {
    "collapsed": false
   },
   "outputs": [],
   "source": [
    "fig, ax = plt.subplots(1, 2, figsize=(10,5))\n",
    "figsize=(15, 10)\n",
    "ax[1].scatter(data[:, 0], data[:, 1], c=clusters_5)\n",
    "# ax[1].scatter(centroids[:, 0], centroids_poisition_5[:, 1], c='r', s=100)\n",
    "\n",
    "ax[0].scatter(data[:, 0], data[:, 1], c=clusters_3)\n",
    "# ax[0].scatter(centroids[:, 0], centroids_poisition_3[:, 1], c='r', s=100)\n",
    "fig.tight_layout()"
   ]
  },
  {
   "cell_type": "markdown",
   "metadata": {},
   "source": [
    "# Problem 2 (Matrix factorization)"
   ]
  },
  {
   "cell_type": "code",
   "execution_count": 2,
   "metadata": {
    "collapsed": false
   },
   "outputs": [
    {
     "name": "stdout",
     "output_type": "stream",
     "text": [
      "time: 650 ms\n"
     ]
    }
   ],
   "source": [
    "#load train data as numpy array\n",
    "X = np.genfromtxt('/Users/Amiros/GitHub/Machine Learning for Data Science/hw4-kmeans/data/ratings.csv', \n",
    "          delimiter=',')\n",
    "y = np.genfromtxt('/Users/Amiros/GitHub/Machine Learning for Data Science/hw4-kmeans/data/ratings_test.csv', \n",
    "          delimiter=',')\n",
    "\n",
    "y_test = np.full( (943, 1682), np.nan)\n",
    "y[:,0] -= 1\n",
    "y[:,1] -= 1\n",
    "y_test[y[:,0].astype(int), y[:,1].astype(int)] = y[:,2]"
   ]
  },
  {
   "cell_type": "code",
   "execution_count": 3,
   "metadata": {
    "collapsed": false
   },
   "outputs": [
    {
     "data": {
      "text/plain": [
       "(943, 1682)"
      ]
     },
     "execution_count": 3,
     "metadata": {},
     "output_type": "execute_result"
    },
    {
     "name": "stdout",
     "output_type": "stream",
     "text": [
      "time: 735 ms\n"
     ]
    }
   ],
   "source": [
    "import pandas as pd\n",
    "df = pd.DataFrame(X)\n",
    "df = df.pivot(index= 0, columns=1, values=2)\n",
    "\n",
    "# list(set(list(range(1,1682))) - set(list(df)))\n",
    "df[1604] = np.nan\n",
    "df[1637] = np.nan\n",
    "df[1577] = np.nan\n",
    "df[1325] = np.nan\n",
    "df[1681] = np.nan\n",
    "df[1414] = np.nan\n",
    "\n",
    "df.shape\n",
    "### make an index list for movies from the raw data"
   ]
  },
  {
   "cell_type": "code",
   "execution_count": 4,
   "metadata": {
    "collapsed": false
   },
   "outputs": [
    {
     "name": "stdout",
     "output_type": "stream",
     "text": [
      "time: 50.9 ms\n"
     ]
    }
   ],
   "source": [
    "# np.argwhere(np.isnan(df.values))\n",
    "M = df.values\n",
    "omega = np.argwhere(np.isfinite(M))"
   ]
  },
  {
   "cell_type": "code",
   "execution_count": 5,
   "metadata": {
    "collapsed": false
   },
   "outputs": [
    {
     "name": "stdout",
     "output_type": "stream",
     "text": [
      "time: 7.56 ms\n"
     ]
    }
   ],
   "source": [
    "# problem intialization\n",
    "d = 10\n",
    "lmbda = 1\n",
    "variance = 0.25\n",
    "steps = 100\n",
    "\n",
    "# number of users\n",
    "N_1 = df.shape[0]\n",
    "u = np.random.randn(N_1, d)\n",
    "\n",
    "# number of movies\n",
    "N_2 = df.shape[1]\n",
    "v = np.random.randn(d, N_2)"
   ]
  },
  {
   "cell_type": "code",
   "execution_count": 59,
   "metadata": {
    "collapsed": false
   },
   "outputs": [
    {
     "name": "stdout",
     "output_type": "stream",
     "text": [
      "time: 22min 20s\n"
     ]
    }
   ],
   "source": [
    "objective = pd.DataFrame()\n",
    "RMSE = []\n",
    "v_arr = [[]]\n",
    "u_arr = [[]]\n",
    "\n",
    "for zzz in range(1,11):\n",
    "    ## initialize the values\n",
    "    N_2 = df.shape[1]\n",
    "    v = np.random.randn(d, N_2)\n",
    "    L = []\n",
    "    u_updated = np.empty((0,10))\n",
    "\n",
    "    for k in range(N_1):\n",
    "        j = omega[omega[:,0] == k][:,1]\n",
    "        v_j =v[:,j]\n",
    "\n",
    "        a = LA.inv((lmbda * variance * np.eye(d)) + v_j.dot(v_j.T))\n",
    "        M_kj = M[k,:][~np.isnan(M[k,:])].reshape(-1,1)\n",
    "        aaa = v_j.dot(M_kj)\n",
    "        u = a.dot(aaa)\n",
    "        u_updated = np.append(u_updated, u.T, axis=0)\n",
    "\n",
    "    #run for 100 times\n",
    "    for iteration in range(1,101):\n",
    "        v_updated = np.empty((10,0))\n",
    "        for z in range(N_2):\n",
    "            i = omega[omega[:,1] == z][:,0]\n",
    "            u_i = u_updated[i,:]\n",
    "\n",
    "            noise_v = LA.inv((lmbda * variance * np.eye(d)) + u_i.T.dot(u_i))\n",
    "            M_iz = M[:,z][~np.isnan(M[:,z])]\n",
    "            v_new = noise_v.dot(u_i.T.dot(M_iz))\n",
    "            v_updated = np.append(v_updated, v_new.reshape(-1,1), axis=1)\n",
    "\n",
    "        u_updated = np.empty((0,10))\n",
    "        for k in range(N_1):\n",
    "            j = omega[omega[:,0] == k][:,1]\n",
    "            v_j =v_updated[:,j]\n",
    "\n",
    "            noise_u = LA.inv((lmbda * variance * np.eye(d)) + v_j.dot(v_j.T))\n",
    "            M_kj = M[k,:][~np.isnan(M[k,:])].reshape(-1,1)\n",
    "            u = noise_u.dot(v_j.dot(M_kj))\n",
    "            u_updated = np.append(u_updated, u.T, axis=0) \n",
    "\n",
    "        l =  - (16 * np.nansum(np.square(M - u_updated.dot(v_updated)))) - (np.sum(0.5 * np.power(LA.norm(u_updated, axis = 1), 2))) - (np.sum(0.5 * np.power(LA.norm(v_updated, axis = 0), 2)))\n",
    "        L.append(l)\n",
    "        \n",
    "    objective[zzz] = L\n",
    "    v_arr.append(v_updated)\n",
    "    u_arr.append(u_updated)\n",
    "    \n",
    "    y_pred = u_updated.dot(v_updated)\n",
    "    rmse = np.sqrt(np.nansum((y_pred - y_test) ** 2)/5000)\n",
    "    RMSE.append(rmse)"
   ]
  },
  {
   "cell_type": "code",
   "execution_count": null,
   "metadata": {
    "collapsed": false
   },
   "outputs": [],
   "source": []
  },
  {
   "cell_type": "markdown",
   "metadata": {},
   "source": [
    "## 2-a"
   ]
  },
  {
   "cell_type": "code",
   "execution_count": 60,
   "metadata": {
    "collapsed": false
   },
   "outputs": [
    {
     "data": {
      "text/plain": [
       "<matplotlib.axes._subplots.AxesSubplot at 0x117f9c630>"
      ]
     },
     "execution_count": 60,
     "metadata": {},
     "output_type": "execute_result"
    },
    {
     "data": {
      "image/png": "[encoded data removed]",
      "text/plain": [
       "<matplotlib.figure.Figure at 0x117f58748>"
      ]
     },
     "metadata": {},
     "output_type": "display_data"
    },
    {
     "name": "stdout",
     "output_type": "stream",
     "text": [
      "time: 470 ms\n"
     ]
    }
   ],
   "source": [
    "objective.plot(figsize=(15, 10))"
   ]
  },
  {
   "cell_type": "code",
   "execution_count": 64,
   "metadata": {
    "collapsed": false
   },
   "outputs": [
    {
     "name": "stderr",
     "output_type": "stream",
     "text": [
      "/Users/Amiros/anaconda/lib/python3.6/site-packages/ipykernel/__main__.py:5: FutureWarning: sort(columns=....) is deprecated, use sort_values(by=.....)\n"
     ]
    },
    {
     "data": {
      "text/html": [
       "<div>\n",
       "<table border=\"1\" class=\"dataframe\">\n",
       "  <thead>\n",
       "    <tr style=\"text-align: right;\">\n",
       "      <th></th>\n",
       "      <th>index</th>\n",
       "      <th>Training Objective Function</th>\n",
       "      <th>RMSE</th>\n",
       "    </tr>\n",
       "  </thead>\n",
       "  <tbody>\n",
       "    <tr>\n",
       "      <th>7</th>\n",
       "      <td>8</td>\n",
       "      <td>-694244.026866</td>\n",
       "      <td>1.141555</td>\n",
       "    </tr>\n",
       "    <tr>\n",
       "      <th>2</th>\n",
       "      <td>3</td>\n",
       "      <td>-694279.898654</td>\n",
       "      <td>1.119178</td>\n",
       "    </tr>\n",
       "    <tr>\n",
       "      <th>5</th>\n",
       "      <td>6</td>\n",
       "      <td>-694590.687893</td>\n",
       "      <td>1.167750</td>\n",
       "    </tr>\n",
       "    <tr>\n",
       "      <th>8</th>\n",
       "      <td>9</td>\n",
       "      <td>-695183.995831</td>\n",
       "      <td>1.104397</td>\n",
       "    </tr>\n",
       "    <tr>\n",
       "      <th>9</th>\n",
       "      <td>10</td>\n",
       "      <td>-695276.160886</td>\n",
       "      <td>1.106127</td>\n",
       "    </tr>\n",
       "    <tr>\n",
       "      <th>6</th>\n",
       "      <td>7</td>\n",
       "      <td>-695510.291230</td>\n",
       "      <td>1.121134</td>\n",
       "    </tr>\n",
       "    <tr>\n",
       "      <th>4</th>\n",
       "      <td>5</td>\n",
       "      <td>-695862.094710</td>\n",
       "      <td>1.098875</td>\n",
       "    </tr>\n",
       "    <tr>\n",
       "      <th>0</th>\n",
       "      <td>1</td>\n",
       "      <td>-695961.973466</td>\n",
       "      <td>1.123558</td>\n",
       "    </tr>\n",
       "    <tr>\n",
       "      <th>1</th>\n",
       "      <td>2</td>\n",
       "      <td>-696031.481083</td>\n",
       "      <td>1.131147</td>\n",
       "    </tr>\n",
       "    <tr>\n",
       "      <th>3</th>\n",
       "      <td>4</td>\n",
       "      <td>-696340.192714</td>\n",
       "      <td>1.100622</td>\n",
       "    </tr>\n",
       "  </tbody>\n",
       "</table>\n",
       "</div>"
      ],
      "text/plain": [
       "   index  Training Objective Function      RMSE\n",
       "7      8               -694244.026866  1.141555\n",
       "2      3               -694279.898654  1.119178\n",
       "5      6               -694590.687893  1.167750\n",
       "8      9               -695183.995831  1.104397\n",
       "9     10               -695276.160886  1.106127\n",
       "6      7               -695510.291230  1.121134\n",
       "4      5               -695862.094710  1.098875\n",
       "0      1               -695961.973466  1.123558\n",
       "1      2               -696031.481083  1.131147\n",
       "3      4               -696340.192714  1.100622"
      ]
     },
     "execution_count": 64,
     "metadata": {},
     "output_type": "execute_result"
    },
    {
     "name": "stdout",
     "output_type": "stream",
     "text": [
      "time: 24.7 ms\n"
     ]
    }
   ],
   "source": [
    "final_tabel = objective.tail(n=1).T\n",
    "final_tabel = final_tabel.rename(columns = {99:'Training Objective Function'})\n",
    "final_tabel['RMSE'] = RMSE\n",
    "final_tabel = final_tabel.reset_index()\n",
    "final_tabel.sort(['Training Objective Function'], ascending=[0])"
   ]
  },
  {
   "cell_type": "markdown",
   "metadata": {},
   "source": [
    "## 2-b"
   ]
  },
  {
   "cell_type": "code",
   "execution_count": 74,
   "metadata": {
    "collapsed": false
   },
   "outputs": [
    {
     "data": {
      "text/plain": [
       "(943, 1682)"
      ]
     },
     "execution_count": 74,
     "metadata": {},
     "output_type": "execute_result"
    },
    {
     "name": "stdout",
     "output_type": "stream",
     "text": [
      "time: 15.9 ms\n"
     ]
    }
   ],
   "source": [
    "[50, 485, 181]\n",
    "u_arr[8].dot(v_arr[8])"
   ]
  },
  {
   "cell_type": "code",
   "execution_count": null,
   "metadata": {
    "collapsed": false
   },
   "outputs": [],
   "source": [
    "u_updated.dot(v_updated)"
   ]
  },
  {
   "cell_type": "code",
   "execution_count": null,
   "metadata": {
    "collapsed": false
   },
   "outputs": [],
   "source": []
  },
  {
   "cell_type": "code",
   "execution_count": null,
   "metadata": {
    "collapsed": false
   },
   "outputs": [],
   "source": []
  },
  {
   "cell_type": "code",
   "execution_count": null,
   "metadata": {
    "collapsed": true
   },
   "outputs": [],
   "source": []
  }
 ],
 "metadata": {
  "kernelspec": {
   "display_name": "Python 3",
   "language": "python",
   "name": "python3"
  },
  "language_info": {
   "codemirror_mode": {
    "name": "ipython",
    "version": 3
   },
   "file_extension": ".py",
   "mimetype": "text/x-python",
   "name": "python",
   "nbconvert_exporter": "python",
   "pygments_lexer": "ipython3",
   "version": "3.6.0"
  }
 },
 "nbformat": 4,
 "nbformat_minor": 0
}
